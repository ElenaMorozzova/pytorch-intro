{
  "nbformat": 4,
  "nbformat_minor": 0,
  "metadata": {
    "colab": {
      "name": "HW10.ipynb",
      "provenance": [],
      "collapsed_sections": [],
      "authorship_tag": "ABX9TyOLTAZl73j0ruvNoIPrGEjm"
    },
    "kernelspec": {
      "name": "python3",
      "display_name": "Python 3"
    },
    "language_info": {
      "name": "python"
    },
    "accelerator": "GPU"
  },
  "cells": [
    {
      "cell_type": "code",
      "execution_count": 1,
      "metadata": {
        "id": "NQyiCp-nbs3R"
      },
      "outputs": [],
      "source": [
        "import os\n",
        "import numpy as np\n",
        "import math\n",
        "\n",
        "from torch.utils.data import DataLoader\n",
        "import torchvision.transforms as transforms\n",
        "from torchvision import datasets\n",
        "from torch.autograd import Variable\n",
        "\n",
        "import torch.nn as nn\n",
        "import torch\n",
        "from torch import optim\n",
        "\n",
        "########### Вывод изображений и их сохранение\n",
        "import matplotlib.pyplot as plt\n",
        "from IPython import display\n",
        "from torchvision.utils import save_image, make_grid"
      ]
    },
    {
      "cell_type": "code",
      "source": [
        "img_size = 64 # размер картинки которую мы будет подавать в нейронные сети\n",
        "channels = 1 # количество каналов в картинке\n",
        "batch_size = 16 # размер батча\n",
        "img_shape = (channels, img_size, img_size) # полный шейп нашей картинки"
      ],
      "metadata": {
        "id": "DNXYvz4HcR1E"
      },
      "execution_count": 35,
      "outputs": []
    },
    {
      "cell_type": "code",
      "source": [
        "real_data = torch.utils.data.DataLoader(datasets.MNIST(\n",
        "        root = 'data',\n",
        "        train=True,\n",
        "        download=False,\n",
        "        transform=transforms.Compose(\n",
        "            [transforms.Resize(img_size), transforms.ToTensor(), transforms.Normalize([0.5], [0.5])]\n",
        "        ),\n",
        "    ),\n",
        "    batch_size=batch_size,\n",
        "    shuffle=True,\n",
        ")"
      ],
      "metadata": {
        "id": "tkbC957pbyML"
      },
      "execution_count": 36,
      "outputs": []
    },
    {
      "cell_type": "code",
      "source": [
        "dataiter = iter(real_data)\n",
        "images, labels = dataiter.next()\n",
        "images = images.numpy()\n",
        "\n",
        "print(f'img_shape = {images[0].shape}')\n",
        "print(f'lable_shape = {labels[0].size()}')\n",
        "\n",
        "# np.squeeze - позволяет избавиться от размерности где равно 1 в тензоре\n",
        "img = np.squeeze(images[0])\n",
        "print(f'img_shape after squeeze = {img.shape}')\n",
        "\n",
        "img1 = np.squeeze(images[1])\n",
        "img2 = np.squeeze(images[2])\n",
        "\n",
        "fig, (ax1, ax2, ax3) = plt.subplots(1, 3, figsize = (12,4))\n",
        "ax1.imshow(img, cmap='gray')\n",
        "ax2.imshow(img1, cmap='gray')\n",
        "ax3.imshow(img2, cmap='gray')"
      ],
      "metadata": {
        "colab": {
          "base_uri": "https://localhost:8080/",
          "height": 318
        },
        "id": "m61eiMx6b1S9",
        "outputId": "bfcfd097-1df0-46aa-d057-6e253ff13db4"
      },
      "execution_count": 37,
      "outputs": [
        {
          "output_type": "stream",
          "name": "stdout",
          "text": [
            "img_shape = (1, 64, 64)\n",
            "lable_shape = torch.Size([])\n",
            "img_shape after squeeze = (64, 64)\n"
          ]
        },
        {
          "output_type": "execute_result",
          "data": {
            "text/plain": [
              "<matplotlib.image.AxesImage at 0x7fea091709d0>"
            ]
          },
          "metadata": {},
          "execution_count": 37
        },
        {
          "output_type": "display_data",
          "data": {
            "image/png": "[encoded data removed]",
            "text/plain": [
              "<Figure size 864x288 with 3 Axes>"
            ]
          },
          "metadata": {
            "needs_background": "light"
          }
        }
      ]
    },
    {
      "cell_type": "code",
      "source": [
        "# Функция для вывода и сохранения изображения\n",
        "def sample_image(static_sample, save_img = False):\n",
        "    npimg = make_grid(static_sample.data[:25]).cpu().numpy()\n",
        "    fig, ax = plt.subplots(figsize=(7, 7))\n",
        "    ax.imshow(np.transpose(npimg, (1,2,0)), interpolation=\"nearest\")\n",
        "    if save_img:\n",
        "        save_image(gen_imgs.data[:25], \"images/%d.png\" % batches_done, nrow=5, normalize=True)"
      ],
      "metadata": {
        "id": "NYZdSagjct6T"
      },
      "execution_count": 38,
      "outputs": []
    },
    {
      "cell_type": "markdown",
      "source": [
        "\n",
        "**2.Дискриминатор**\n",
        "Учтя рекомендации авторов DCGAN, его структуру сделаем следующей:\n",
        "\n",
        "\n",
        "*   На вход подается изображение с заданным числом каналов (input_channels);\n",
        "*   Тело состоит из последовательных блоков вида Conv2d - BN2d  - LeakyReLU; \n",
        "*   Сверточные слои сделаем со stride=2, т.к. мы не хотим использовать MaxPool2d; kernel_size=4, padding=1;\n",
        "*   Добавим параметр with_sigmoid\n",
        "\n",
        "\n",
        "\n",
        "\n"
      ],
      "metadata": {
        "id": "Jywx10n3dMl6"
      }
    },
    {
      "cell_type": "code",
      "source": [
        "latent_dim = 100 # Размерность случайного вектора, который подается на вход генератору\n",
        "IMAGE_CHANNELS = 1 # количество каналов в нашей картинке\n",
        "DISCRIMINATOR_BASE_FEATURES = 64\n",
        "GENERATOR_BASE_FEATURES = 64\n",
        "NUM_TO_SHOW = 64"
      ],
      "metadata": {
        "id": "1ugINLfJdlUW"
      },
      "execution_count": 39,
      "outputs": []
    },
    {
      "cell_type": "code",
      "source": [
        "class DiscriminatorBasic(nn.Module):\n",
        "    \n",
        "    def __init__(self, \n",
        "                 input_channels=IMAGE_CHANNELS, \n",
        "                 base_num_features=DISCRIMINATOR_BASE_FEATURES, \n",
        "                 with_sigmoid=True):\n",
        "        super(DiscriminatorBasic, self).__init__()\n",
        "        layers = [\n",
        "            # input size: input_channels x 64 x 64\n",
        "            \n",
        "            nn.Conv2d(input_channels, base_num_features, 4, 2, 1, bias=False),\n",
        "            nn.LeakyReLU(0.2, inplace=True),\n",
        "            # state size: base_num_features x 32 x 32\n",
        "\n",
        "            nn.Conv2d(base_num_features, base_num_features * 2, 4, 2, 1, bias=False),\n",
        "            nn.BatchNorm2d(base_num_features * 2),\n",
        "            nn.LeakyReLU(0.2, inplace=True),\n",
        "            # state size: (base_num_features * 2) x 16 x 16\n",
        "\n",
        "            nn.Conv2d(base_num_features * 2, base_num_features * 4, 4, 2, 1, bias=False),\n",
        "            nn.BatchNorm2d(base_num_features * 4),\n",
        "            nn.LeakyReLU(0.2, inplace=True),\n",
        "            # state size: (base_num_features * 4) x 8 x 8\n",
        "\n",
        "            nn.Conv2d(base_num_features * 4, base_num_features * 8, 4, 2, 1, bias=False),\n",
        "            nn.BatchNorm2d(base_num_features * 8),\n",
        "            nn.LeakyReLU(0.2, inplace=True),\n",
        "            # state size: (base_num_features * 8) x 4 x 4\n",
        "\n",
        "            nn.Conv2d(base_num_features * 8, 1, 4, 1, 0, bias=False),\n",
        "            # state size: 1 x 1 x 1\n",
        "        ]\n",
        "        \n",
        "        if with_sigmoid:\n",
        "            layers.append(nn.Sigmoid())\n",
        "        \n",
        "        self.main = nn.Sequential(*layers)\n",
        "\n",
        "    def forward(self, inputs):\n",
        "        return self.main(inputs)"
      ],
      "metadata": {
        "id": "gRomWW21cx0g"
      },
      "execution_count": 40,
      "outputs": []
    },
    {
      "cell_type": "code",
      "source": [
        "discriminator = DiscriminatorBasic()\n",
        "print(discriminator)"
      ],
      "metadata": {
        "colab": {
          "base_uri": "https://localhost:8080/"
        },
        "id": "ChD9xcUTdja7",
        "outputId": "ea6d7bf5-0ca6-4ccb-efd9-b121900035c9"
      },
      "execution_count": 41,
      "outputs": [
        {
          "output_type": "stream",
          "name": "stdout",
          "text": [
            "DiscriminatorBasic(\n",
            "  (main): Sequential(\n",
            "    (0): Conv2d(1, 64, kernel_size=(4, 4), stride=(2, 2), padding=(1, 1), bias=False)\n",
            "    (1): LeakyReLU(negative_slope=0.2, inplace=True)\n",
            "    (2): Conv2d(64, 128, kernel_size=(4, 4), stride=(2, 2), padding=(1, 1), bias=False)\n",
            "    (3): BatchNorm2d(128, eps=1e-05, momentum=0.1, affine=True, track_running_stats=True)\n",
            "    (4): LeakyReLU(negative_slope=0.2, inplace=True)\n",
            "    (5): Conv2d(128, 256, kernel_size=(4, 4), stride=(2, 2), padding=(1, 1), bias=False)\n",
            "    (6): BatchNorm2d(256, eps=1e-05, momentum=0.1, affine=True, track_running_stats=True)\n",
            "    (7): LeakyReLU(negative_slope=0.2, inplace=True)\n",
            "    (8): Conv2d(256, 512, kernel_size=(4, 4), stride=(2, 2), padding=(1, 1), bias=False)\n",
            "    (9): BatchNorm2d(512, eps=1e-05, momentum=0.1, affine=True, track_running_stats=True)\n",
            "    (10): LeakyReLU(negative_slope=0.2, inplace=True)\n",
            "    (11): Conv2d(512, 1, kernel_size=(4, 4), stride=(1, 1), bias=False)\n",
            "    (12): Sigmoid()\n",
            "  )\n",
            ")\n"
          ]
        }
      ]
    },
    {
      "cell_type": "code",
      "source": [
        "# Проверка размерности\n",
        "x = torch.randn(4, IMAGE_CHANNELS, img_size, img_size)\n",
        "y = discriminator(x)\n",
        "assert y.size() == (4, 1, 1, 1), y.size()"
      ],
      "metadata": {
        "id": "olGyEMmNeG6w"
      },
      "execution_count": 42,
      "outputs": []
    },
    {
      "cell_type": "markdown",
      "source": [
        "**3. Генератор**\n",
        "\n",
        "На вход он получает вектор шума z длины latent dim. В отличие от дискриминатора используем транспонированные свертки, активации ReLU в середине и Tanh в конце."
      ],
      "metadata": {
        "id": "ax0P0LIsfR2Q"
      }
    },
    {
      "cell_type": "code",
      "source": [
        "class GeneratorBasic(nn.Module):\n",
        "    \n",
        "    def __init__(self, \n",
        "                 input_channels=latent_dim, \n",
        "                 base_num_features=GENERATOR_BASE_FEATURES, \n",
        "                 output_channels=IMAGE_CHANNELS):\n",
        "        super(GeneratorBasic, self).__init__()\n",
        "        layers = [\n",
        "            # input is Z, going into a convolution\n",
        "            \n",
        "            nn.ConvTranspose2d(input_channels, base_num_features * 8, 4, 1, 0, bias=False),\n",
        "            nn.BatchNorm2d(base_num_features * 8),\n",
        "            nn.ReLU(inplace=True),\n",
        "            # state size: (base_num_features * 8) x 4 x 4\n",
        "\n",
        "            nn.ConvTranspose2d(base_num_features * 8, base_num_features * 4, 4, 2, 1, bias=False),\n",
        "            nn.BatchNorm2d(base_num_features * 4),\n",
        "            nn.ReLU(inplace=True),\n",
        "            # state size: (base_num_features * 4) x 8 x 8\n",
        "\n",
        "            nn.ConvTranspose2d(base_num_features * 4, base_num_features * 2, 4, 2, 1, bias=False),\n",
        "            nn.BatchNorm2d(base_num_features * 2),\n",
        "            nn.ReLU(inplace=True),\n",
        "            # state size: (base_num_features * 2) x 16 x 16\n",
        "\n",
        "            nn.ConvTranspose2d(base_num_features * 2, base_num_features, 4, 2, 1, bias=False),\n",
        "            nn.BatchNorm2d(base_num_features),\n",
        "            nn.ReLU(inplace=True),\n",
        "            # state size: (base_num_features) x 32 x 32\n",
        "\n",
        "            nn.ConvTranspose2d(base_num_features, output_channels, 4, 2, 1, bias=False),\n",
        "            nn.Tanh()\n",
        "            # state size: output_channels x 64 x 64\n",
        "        ]\n",
        "\n",
        "        self.main = nn.Sequential(*layers)\n",
        "\n",
        "    def forward(self, inputs):\n",
        "        return self.main(inputs)"
      ],
      "metadata": {
        "id": "rdAeRHY-e4h-"
      },
      "execution_count": 43,
      "outputs": []
    },
    {
      "cell_type": "code",
      "source": [
        "generator = GeneratorBasic()\n",
        "print(generator)"
      ],
      "metadata": {
        "colab": {
          "base_uri": "https://localhost:8080/"
        },
        "id": "JF3Jvzi-fcaT",
        "outputId": "8ce4756d-460d-405a-8d76-39af2745be3b"
      },
      "execution_count": 44,
      "outputs": [
        {
          "output_type": "stream",
          "name": "stdout",
          "text": [
            "GeneratorBasic(\n",
            "  (main): Sequential(\n",
            "    (0): ConvTranspose2d(100, 512, kernel_size=(4, 4), stride=(1, 1), bias=False)\n",
            "    (1): BatchNorm2d(512, eps=1e-05, momentum=0.1, affine=True, track_running_stats=True)\n",
            "    (2): ReLU(inplace=True)\n",
            "    (3): ConvTranspose2d(512, 256, kernel_size=(4, 4), stride=(2, 2), padding=(1, 1), bias=False)\n",
            "    (4): BatchNorm2d(256, eps=1e-05, momentum=0.1, affine=True, track_running_stats=True)\n",
            "    (5): ReLU(inplace=True)\n",
            "    (6): ConvTranspose2d(256, 128, kernel_size=(4, 4), stride=(2, 2), padding=(1, 1), bias=False)\n",
            "    (7): BatchNorm2d(128, eps=1e-05, momentum=0.1, affine=True, track_running_stats=True)\n",
            "    (8): ReLU(inplace=True)\n",
            "    (9): ConvTranspose2d(128, 64, kernel_size=(4, 4), stride=(2, 2), padding=(1, 1), bias=False)\n",
            "    (10): BatchNorm2d(64, eps=1e-05, momentum=0.1, affine=True, track_running_stats=True)\n",
            "    (11): ReLU(inplace=True)\n",
            "    (12): ConvTranspose2d(64, 1, kernel_size=(4, 4), stride=(2, 2), padding=(1, 1), bias=False)\n",
            "    (13): Tanh()\n",
            "  )\n",
            ")\n"
          ]
        }
      ]
    },
    {
      "cell_type": "code",
      "source": [
        "# Проверка размерности\n",
        "x = torch.randn(4, latent_dim, 1, 1)\n",
        "y = generator(x)\n",
        "assert y.size() == (4, IMAGE_CHANNELS, img_size, img_size), y.size()"
      ],
      "metadata": {
        "id": "a3fXAurZffFf"
      },
      "execution_count": 45,
      "outputs": []
    },
    {
      "cell_type": "code",
      "source": [
        "def weights_init(m, scale=0.02):\n",
        "    classname = m.__class__.__name__\n",
        "    if classname.find('Conv') != -1:\n",
        "        torch.nn.init.normal_(m.weight, 0.0, scale)\n",
        "    elif classname.find('BatchNorm') != -1:\n",
        "        torch.nn.init.normal_(m.weight, 1.0, scale)\n",
        "        torch.nn.init.zeros_(m.bias)"
      ],
      "metadata": {
        "id": "tnvadoYHfk08"
      },
      "execution_count": 46,
      "outputs": []
    },
    {
      "cell_type": "markdown",
      "source": [
        "**4. Обучение**\n",
        "\n",
        "Используем рекомендованные параметры:"
      ],
      "metadata": {
        "id": "NfjPvOiIgf9M"
      }
    },
    {
      "cell_type": "code",
      "source": [
        "n_epochs = 10 # количество эпох\n",
        "lr = 0.0002 # шаг обучения\n",
        "\n",
        "b1 = 0.5 # гиперпараметр для оптимайзера Adam\n",
        "b2 = 0.999 # гиперпараметр для оптимайзера Adam\n",
        "\n",
        "sample_interval = 25 # количество картинок для отображения процесса обучения"
      ],
      "metadata": {
        "id": "ZJqK5_0Jh3fE"
      },
      "execution_count": 50,
      "outputs": []
    },
    {
      "cell_type": "code",
      "source": [
        "generator = GeneratorBasic()\n",
        "generator.apply(weights_init)"
      ],
      "metadata": {
        "colab": {
          "base_uri": "https://localhost:8080/"
        },
        "id": "rG6aIGFyivV7",
        "outputId": "89163121-d069-4e33-fffb-924878d2b889"
      },
      "execution_count": 51,
      "outputs": [
        {
          "output_type": "execute_result",
          "data": {
            "text/plain": [
              "GeneratorBasic(\n",
              "  (main): Sequential(\n",
              "    (0): ConvTranspose2d(100, 512, kernel_size=(4, 4), stride=(1, 1), bias=False)\n",
              "    (1): BatchNorm2d(512, eps=1e-05, momentum=0.1, affine=True, track_running_stats=True)\n",
              "    (2): ReLU(inplace=True)\n",
              "    (3): ConvTranspose2d(512, 256, kernel_size=(4, 4), stride=(2, 2), padding=(1, 1), bias=False)\n",
              "    (4): BatchNorm2d(256, eps=1e-05, momentum=0.1, affine=True, track_running_stats=True)\n",
              "    (5): ReLU(inplace=True)\n",
              "    (6): ConvTranspose2d(256, 128, kernel_size=(4, 4), stride=(2, 2), padding=(1, 1), bias=False)\n",
              "    (7): BatchNorm2d(128, eps=1e-05, momentum=0.1, affine=True, track_running_stats=True)\n",
              "    (8): ReLU(inplace=True)\n",
              "    (9): ConvTranspose2d(128, 64, kernel_size=(4, 4), stride=(2, 2), padding=(1, 1), bias=False)\n",
              "    (10): BatchNorm2d(64, eps=1e-05, momentum=0.1, affine=True, track_running_stats=True)\n",
              "    (11): ReLU(inplace=True)\n",
              "    (12): ConvTranspose2d(64, 1, kernel_size=(4, 4), stride=(2, 2), padding=(1, 1), bias=False)\n",
              "    (13): Tanh()\n",
              "  )\n",
              ")"
            ]
          },
          "metadata": {},
          "execution_count": 51
        }
      ]
    },
    {
      "cell_type": "code",
      "source": [
        "discriminator = DiscriminatorBasic()\n",
        "discriminator.apply(weights_init)"
      ],
      "metadata": {
        "colab": {
          "base_uri": "https://localhost:8080/"
        },
        "id": "bDptpeFSl5zb",
        "outputId": "78decddb-b5ea-4683-9ba1-378d0f23ef35"
      },
      "execution_count": 52,
      "outputs": [
        {
          "output_type": "execute_result",
          "data": {
            "text/plain": [
              "DiscriminatorBasic(\n",
              "  (main): Sequential(\n",
              "    (0): Conv2d(1, 64, kernel_size=(4, 4), stride=(2, 2), padding=(1, 1), bias=False)\n",
              "    (1): LeakyReLU(negative_slope=0.2, inplace=True)\n",
              "    (2): Conv2d(64, 128, kernel_size=(4, 4), stride=(2, 2), padding=(1, 1), bias=False)\n",
              "    (3): BatchNorm2d(128, eps=1e-05, momentum=0.1, affine=True, track_running_stats=True)\n",
              "    (4): LeakyReLU(negative_slope=0.2, inplace=True)\n",
              "    (5): Conv2d(128, 256, kernel_size=(4, 4), stride=(2, 2), padding=(1, 1), bias=False)\n",
              "    (6): BatchNorm2d(256, eps=1e-05, momentum=0.1, affine=True, track_running_stats=True)\n",
              "    (7): LeakyReLU(negative_slope=0.2, inplace=True)\n",
              "    (8): Conv2d(256, 512, kernel_size=(4, 4), stride=(2, 2), padding=(1, 1), bias=False)\n",
              "    (9): BatchNorm2d(512, eps=1e-05, momentum=0.1, affine=True, track_running_stats=True)\n",
              "    (10): LeakyReLU(negative_slope=0.2, inplace=True)\n",
              "    (11): Conv2d(512, 1, kernel_size=(4, 4), stride=(1, 1), bias=False)\n",
              "    (12): Sigmoid()\n",
              "  )\n",
              ")"
            ]
          },
          "metadata": {},
          "execution_count": 52
        }
      ]
    },
    {
      "cell_type": "code",
      "source": [
        "# Для каждой нейронки свой опитимизатор\n",
        "optimizer_G = torch.optim.Adam(generator.parameters(), lr=lr, betas=(b1, b2))\n",
        "optimizer_D = torch.optim.Adam(discriminator.parameters(), lr=lr, betas=(b1, b2))\n",
        "\n",
        "# Но вот функция ошибки у нас будет одна общая\n",
        "adversarial_loss = torch.nn.BCELoss()"
      ],
      "metadata": {
        "id": "2BwJvfLdiPD8"
      },
      "execution_count": 53,
      "outputs": []
    },
    {
      "cell_type": "code",
      "source": [
        "d_loss_history = []\n",
        "g_loss_history = []"
      ],
      "metadata": {
        "id": "_DoWL-gKiPGv"
      },
      "execution_count": 54,
      "outputs": []
    },
    {
      "cell_type": "code",
      "source": [
        "import matplotlib.patches as mpatches\n",
        "\n",
        "red_patch = mpatches.Patch(color='red', label='D loss')\n",
        "green_patch = mpatches.Patch(color='green', label='G loss')\n",
        "\n",
        "\n",
        "for epoch in range(n_epochs):\n",
        "    for i, (imgs, labels) in enumerate(real_data):\n",
        "        \n",
        "##################### Лейблы для данных: 1 - настоящие, 0 - сгенерированные ########\n",
        "        valid = torch.FloatTensor(batch_size, 1, 1, 1).fill_(1.0)\n",
        "        fake = torch.FloatTensor(batch_size, 1, 1, 1).fill_(0.0)\n",
        "\n",
        "        real_imgs = imgs.type(torch.FloatTensor)\n",
        "\n",
        "\n",
        "######################  Тренировка генератора    ##########################\n",
        "\n",
        "        optimizer_G.zero_grad()\n",
        "    \n",
        "        #генерация шума\n",
        "        z = torch.randn(batch_size, latent_dim, 1, 1)\n",
        "        \n",
        "        # Генерируем даные Генератором на основе шума\n",
        "        gen_imgs = generator(z)\n",
        "        \n",
        "        # Подаем сгенерированые данные на Дискриминатор \n",
        "        validity = discriminator(gen_imgs)\n",
        "        \n",
        "        # Тут сравниваем предсказанные значения Дискриминатора(на основе сгенерировнных данных) с настоящими\n",
        "        g_loss = adversarial_loss(validity, valid)\n",
        "        \n",
        "        # Делаем шаг обучения нашего Генератора\n",
        "        g_loss.backward()\n",
        "        optimizer_G.step()\n",
        "\n",
        "######################  Тренировка дискриминатора    ##########################\n",
        "\n",
        "        optimizer_D.zero_grad()\n",
        "        \n",
        "        # Получаем предсказания дискриминатора на основе реальных данных\n",
        "        real_pred = discriminator(real_imgs)\n",
        "        \n",
        "        # Тут сравниваем предсказанные значения Дискриминатора(на основе настоящих данных) с настоящими\n",
        "        d_real_loss = adversarial_loss(real_pred, valid)\n",
        "        \n",
        "        # Опять делаем предсказание на Дискриминаторе с помощью сгенерированных данных\n",
        "        fake_pred = discriminator(gen_imgs.detach())\n",
        "        \n",
        "        # расчитываем ошибку предсказанного с фейковыми лейблами\n",
        "        d_fake_loss = adversarial_loss(fake_pred, fake)\n",
        "        \n",
        "        # И усредняем два лосса в один\n",
        "        d_loss = (d_real_loss + d_fake_loss) / 2\n",
        "\n",
        "        d_loss.backward()\n",
        "        optimizer_D.step()\n",
        "        \n",
        "######## Отображение процесса обучения и вывод функций потерь ############\n",
        "        batches_done = epoch * len(real_data) + i\n",
        "    \n",
        "        if batches_done % sample_interval == 0:\n",
        "            with torch.no_grad():\n",
        "                plt.clf()\n",
        "\n",
        "                display.clear_output(wait=False)\n",
        "                sample_image(gen_imgs)\n",
        "                print(\"[Epoch %d/%d] [Batch %d/%d] [D loss: %f] [G loss: %f]\"% (epoch, n_epochs, i, len(real_data), d_loss.item(), g_loss.item()) ) \n",
        "\n",
        "\n",
        "                display.display(plt.gcf())\n",
        "\n",
        "                d_loss = d_loss.cpu().detach()\n",
        "                g_loss = g_loss.cpu().detach()\n",
        "\n",
        "\n",
        "                d_loss_history.append(d_loss)\n",
        "                g_loss_history.append(g_loss)\n",
        "\n",
        "                plt.plot(np.log(np.array(d_loss_history)), label='D loss', color = 'red')\n",
        "                plt.plot(np.log(np.array(g_loss_history)), label='G loss', color = 'green')\n",
        "                plt.legend(handles=[red_patch, green_patch])\n",
        "                plt.show()\n"
      ],
      "metadata": {
        "colab": {
          "base_uri": "https://localhost:8080/",
          "height": 717
        },
        "id": "gV7BAusIiPJT",
        "outputId": "a2e06768-d45d-4083-92e0-f1fb2b1289af"
      },
      "execution_count": 55,
      "outputs": [
        {
          "output_type": "stream",
          "name": "stderr",
          "text": [
            "Clipping input data to the valid range for imshow with RGB data ([0..1] for floats or [0..255] for integers).\n"
          ]
        },
        {
          "output_type": "stream",
          "name": "stdout",
          "text": [
            "[Epoch 1/10] [Batch 1650/3750] [D loss: 0.108267] [G loss: 2.443510]\n"
          ]
        },
        {
          "output_type": "display_data",
          "data": {
            "image/png": "[encoded data removed]",
            "text/plain": [
              "<Figure size 504x504 with 1 Axes>"
            ]
          },
          "metadata": {}
        },
        {
          "output_type": "display_data",
          "data": {
            "text/plain": [
              "<Figure size 432x288 with 0 Axes>"
            ]
          },
          "metadata": {}
        },
        {
          "output_type": "display_data",
          "data": {
            "image/png": "[encoded data removed]",
            "text/plain": [
              "<Figure size 504x504 with 1 Axes>"
            ]
          },
          "metadata": {
            "needs_background": "light"
          }
        },
        {
          "output_type": "error",
          "ename": "KeyboardInterrupt",
          "evalue": "ignored",
          "traceback": [
            "\u001b[0;31m---------------------------------------------------------------------------\u001b[0m",
            "\u001b[0;31mKeyboardInterrupt\u001b[0m                         Traceback (most recent call last)",
            "\u001b[0;32m<ipython-input-55-08382d68dd25>\u001b[0m in \u001b[0;36m<module>\u001b[0;34m()\u001b[0m\n\u001b[1;32m     23\u001b[0m \u001b[0;34m\u001b[0m\u001b[0m\n\u001b[1;32m     24\u001b[0m         \u001b[0;31m# Генерируем даные Генератором на основе шума\u001b[0m\u001b[0;34m\u001b[0m\u001b[0;34m\u001b[0m\u001b[0;34m\u001b[0m\u001b[0m\n\u001b[0;32m---> 25\u001b[0;31m         \u001b[0mgen_imgs\u001b[0m \u001b[0;34m=\u001b[0m \u001b[0mgenerator\u001b[0m\u001b[0;34m(\u001b[0m\u001b[0mz\u001b[0m\u001b[0;34m)\u001b[0m\u001b[0;34m\u001b[0m\u001b[0;34m\u001b[0m\u001b[0m\n\u001b[0m\u001b[1;32m     26\u001b[0m \u001b[0;34m\u001b[0m\u001b[0m\n\u001b[1;32m     27\u001b[0m         \u001b[0;31m# Подаем сгенерированые данные на Дискриминатор\u001b[0m\u001b[0;34m\u001b[0m\u001b[0;34m\u001b[0m\u001b[0;34m\u001b[0m\u001b[0m\n",
            "\u001b[0;32m/usr/local/lib/python3.7/dist-packages/torch/nn/modules/module.py\u001b[0m in \u001b[0;36m_call_impl\u001b[0;34m(self, *input, **kwargs)\u001b[0m\n\u001b[1;32m   1100\u001b[0m         if not (self._backward_hooks or self._forward_hooks or self._forward_pre_hooks or _global_backward_hooks\n\u001b[1;32m   1101\u001b[0m                 or _global_forward_hooks or _global_forward_pre_hooks):\n\u001b[0;32m-> 1102\u001b[0;31m             \u001b[0;32mreturn\u001b[0m \u001b[0mforward_call\u001b[0m\u001b[0;34m(\u001b[0m\u001b[0;34m*\u001b[0m\u001b[0minput\u001b[0m\u001b[0;34m,\u001b[0m \u001b[0;34m**\u001b[0m\u001b[0mkwargs\u001b[0m\u001b[0;34m)\u001b[0m\u001b[0;34m\u001b[0m\u001b[0;34m\u001b[0m\u001b[0m\n\u001b[0m\u001b[1;32m   1103\u001b[0m         \u001b[0;31m# Do not call functions when jit is used\u001b[0m\u001b[0;34m\u001b[0m\u001b[0;34m\u001b[0m\u001b[0;34m\u001b[0m\u001b[0m\n\u001b[1;32m   1104\u001b[0m         \u001b[0mfull_backward_hooks\u001b[0m\u001b[0;34m,\u001b[0m \u001b[0mnon_full_backward_hooks\u001b[0m \u001b[0;34m=\u001b[0m \u001b[0;34m[\u001b[0m\u001b[0;34m]\u001b[0m\u001b[0;34m,\u001b[0m \u001b[0;34m[\u001b[0m\u001b[0;34m]\u001b[0m\u001b[0;34m\u001b[0m\u001b[0;34m\u001b[0m\u001b[0m\n",
            "\u001b[0;32m<ipython-input-43-5409530b8c3b>\u001b[0m in \u001b[0;36mforward\u001b[0;34m(self, inputs)\u001b[0m\n\u001b[1;32m     37\u001b[0m \u001b[0;34m\u001b[0m\u001b[0m\n\u001b[1;32m     38\u001b[0m     \u001b[0;32mdef\u001b[0m \u001b[0mforward\u001b[0m\u001b[0;34m(\u001b[0m\u001b[0mself\u001b[0m\u001b[0;34m,\u001b[0m \u001b[0minputs\u001b[0m\u001b[0;34m)\u001b[0m\u001b[0;34m:\u001b[0m\u001b[0;34m\u001b[0m\u001b[0;34m\u001b[0m\u001b[0m\n\u001b[0;32m---> 39\u001b[0;31m         \u001b[0;32mreturn\u001b[0m \u001b[0mself\u001b[0m\u001b[0;34m.\u001b[0m\u001b[0mmain\u001b[0m\u001b[0;34m(\u001b[0m\u001b[0minputs\u001b[0m\u001b[0;34m)\u001b[0m\u001b[0;34m\u001b[0m\u001b[0;34m\u001b[0m\u001b[0m\n\u001b[0m",
            "\u001b[0;32m/usr/local/lib/python3.7/dist-packages/torch/nn/modules/module.py\u001b[0m in \u001b[0;36m_call_impl\u001b[0;34m(self, *input, **kwargs)\u001b[0m\n\u001b[1;32m   1100\u001b[0m         if not (self._backward_hooks or self._forward_hooks or self._forward_pre_hooks or _global_backward_hooks\n\u001b[1;32m   1101\u001b[0m                 or _global_forward_hooks or _global_forward_pre_hooks):\n\u001b[0;32m-> 1102\u001b[0;31m             \u001b[0;32mreturn\u001b[0m \u001b[0mforward_call\u001b[0m\u001b[0;34m(\u001b[0m\u001b[0;34m*\u001b[0m\u001b[0minput\u001b[0m\u001b[0;34m,\u001b[0m \u001b[0;34m**\u001b[0m\u001b[0mkwargs\u001b[0m\u001b[0;34m)\u001b[0m\u001b[0;34m\u001b[0m\u001b[0;34m\u001b[0m\u001b[0m\n\u001b[0m\u001b[1;32m   1103\u001b[0m         \u001b[0;31m# Do not call functions when jit is used\u001b[0m\u001b[0;34m\u001b[0m\u001b[0;34m\u001b[0m\u001b[0;34m\u001b[0m\u001b[0m\n\u001b[1;32m   1104\u001b[0m         \u001b[0mfull_backward_hooks\u001b[0m\u001b[0;34m,\u001b[0m \u001b[0mnon_full_backward_hooks\u001b[0m \u001b[0;34m=\u001b[0m \u001b[0;34m[\u001b[0m\u001b[0;34m]\u001b[0m\u001b[0;34m,\u001b[0m \u001b[0;34m[\u001b[0m\u001b[0;34m]\u001b[0m\u001b[0;34m\u001b[0m\u001b[0;34m\u001b[0m\u001b[0m\n",
            "\u001b[0;32m/usr/local/lib/python3.7/dist-packages/torch/nn/modules/container.py\u001b[0m in \u001b[0;36mforward\u001b[0;34m(self, input)\u001b[0m\n\u001b[1;32m    139\u001b[0m     \u001b[0;32mdef\u001b[0m \u001b[0mforward\u001b[0m\u001b[0;34m(\u001b[0m\u001b[0mself\u001b[0m\u001b[0;34m,\u001b[0m \u001b[0minput\u001b[0m\u001b[0;34m)\u001b[0m\u001b[0;34m:\u001b[0m\u001b[0;34m\u001b[0m\u001b[0;34m\u001b[0m\u001b[0m\n\u001b[1;32m    140\u001b[0m         \u001b[0;32mfor\u001b[0m \u001b[0mmodule\u001b[0m \u001b[0;32min\u001b[0m \u001b[0mself\u001b[0m\u001b[0;34m:\u001b[0m\u001b[0;34m\u001b[0m\u001b[0;34m\u001b[0m\u001b[0m\n\u001b[0;32m--> 141\u001b[0;31m             \u001b[0minput\u001b[0m \u001b[0;34m=\u001b[0m \u001b[0mmodule\u001b[0m\u001b[0;34m(\u001b[0m\u001b[0minput\u001b[0m\u001b[0;34m)\u001b[0m\u001b[0;34m\u001b[0m\u001b[0;34m\u001b[0m\u001b[0m\n\u001b[0m\u001b[1;32m    142\u001b[0m         \u001b[0;32mreturn\u001b[0m \u001b[0minput\u001b[0m\u001b[0;34m\u001b[0m\u001b[0;34m\u001b[0m\u001b[0m\n\u001b[1;32m    143\u001b[0m \u001b[0;34m\u001b[0m\u001b[0m\n",
            "\u001b[0;32m/usr/local/lib/python3.7/dist-packages/torch/nn/modules/module.py\u001b[0m in \u001b[0;36m_call_impl\u001b[0;34m(self, *input, **kwargs)\u001b[0m\n\u001b[1;32m   1100\u001b[0m         if not (self._backward_hooks or self._forward_hooks or self._forward_pre_hooks or _global_backward_hooks\n\u001b[1;32m   1101\u001b[0m                 or _global_forward_hooks or _global_forward_pre_hooks):\n\u001b[0;32m-> 1102\u001b[0;31m             \u001b[0;32mreturn\u001b[0m \u001b[0mforward_call\u001b[0m\u001b[0;34m(\u001b[0m\u001b[0;34m*\u001b[0m\u001b[0minput\u001b[0m\u001b[0;34m,\u001b[0m \u001b[0;34m**\u001b[0m\u001b[0mkwargs\u001b[0m\u001b[0;34m)\u001b[0m\u001b[0;34m\u001b[0m\u001b[0;34m\u001b[0m\u001b[0m\n\u001b[0m\u001b[1;32m   1103\u001b[0m         \u001b[0;31m# Do not call functions when jit is used\u001b[0m\u001b[0;34m\u001b[0m\u001b[0;34m\u001b[0m\u001b[0;34m\u001b[0m\u001b[0m\n\u001b[1;32m   1104\u001b[0m         \u001b[0mfull_backward_hooks\u001b[0m\u001b[0;34m,\u001b[0m \u001b[0mnon_full_backward_hooks\u001b[0m \u001b[0;34m=\u001b[0m \u001b[0;34m[\u001b[0m\u001b[0;34m]\u001b[0m\u001b[0;34m,\u001b[0m \u001b[0;34m[\u001b[0m\u001b[0;34m]\u001b[0m\u001b[0;34m\u001b[0m\u001b[0;34m\u001b[0m\u001b[0m\n",
            "\u001b[0;32m/usr/local/lib/python3.7/dist-packages/torch/nn/modules/conv.py\u001b[0m in \u001b[0;36mforward\u001b[0;34m(self, input, output_size)\u001b[0m\n\u001b[1;32m    923\u001b[0m         return F.conv_transpose2d(\n\u001b[1;32m    924\u001b[0m             \u001b[0minput\u001b[0m\u001b[0;34m,\u001b[0m \u001b[0mself\u001b[0m\u001b[0;34m.\u001b[0m\u001b[0mweight\u001b[0m\u001b[0;34m,\u001b[0m \u001b[0mself\u001b[0m\u001b[0;34m.\u001b[0m\u001b[0mbias\u001b[0m\u001b[0;34m,\u001b[0m \u001b[0mself\u001b[0m\u001b[0;34m.\u001b[0m\u001b[0mstride\u001b[0m\u001b[0;34m,\u001b[0m \u001b[0mself\u001b[0m\u001b[0;34m.\u001b[0m\u001b[0mpadding\u001b[0m\u001b[0;34m,\u001b[0m\u001b[0;34m\u001b[0m\u001b[0;34m\u001b[0m\u001b[0m\n\u001b[0;32m--> 925\u001b[0;31m             output_padding, self.groups, self.dilation)\n\u001b[0m\u001b[1;32m    926\u001b[0m \u001b[0;34m\u001b[0m\u001b[0m\n\u001b[1;32m    927\u001b[0m \u001b[0;34m\u001b[0m\u001b[0m\n",
            "\u001b[0;31mKeyboardInterrupt\u001b[0m: "
          ]
        }
      ]
    },
    {
      "cell_type": "code",
      "source": [
        ""
      ],
      "metadata": {
        "id": "YIsM8FyWmWkH"
      },
      "execution_count": null,
      "outputs": []
    }
  ]
}