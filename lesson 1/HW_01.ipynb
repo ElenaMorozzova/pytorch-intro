{
 "cells": [
  {
   "cell_type": "code",
   "execution_count": 1,
   "metadata": {},
   "outputs": [],
   "source": [
    "import torch"
   ]
  },
  {
   "cell_type": "code",
   "execution_count": 3,
   "metadata": {},
   "outputs": [
    {
     "data": {
      "text/plain": [
       "tensor([[[ 7.1305e+31,  1.3593e-43,  0.0000e+00,  0.0000e+00,  0.0000e+00],\n",
       "         [ 0.0000e+00,  1.9069e+15,  4.5818e-41,  1.5469e+19,  4.5818e-41],\n",
       "         [ 1.5469e+19,  4.5818e-41,  1.5469e+19,  4.5818e-41,  1.2534e+19],\n",
       "         [ 4.5818e-41,  3.5733e-43,  0.0000e+00,  1.4013e-45,  0.0000e+00]],\n",
       "\n",
       "        [[ 1.5469e+19,  4.5818e-41,  1.5469e+19,  4.5818e-41,  1.4013e-45],\n",
       "         [ 0.0000e+00,  3.5733e-43,  0.0000e+00,  0.0000e+00,  0.0000e+00],\n",
       "         [ 1.5469e+19,  4.5818e-41,  0.0000e+00,  0.0000e+00,  0.0000e+00],\n",
       "         [ 0.0000e+00,  0.0000e+00,  0.0000e+00,  0.0000e+00,  0.0000e+00]],\n",
       "\n",
       "        [[ 0.0000e+00,  0.0000e+00,  0.0000e+00,  0.0000e+00,  0.0000e+00],\n",
       "         [ 0.0000e+00,  3.5733e-43,  0.0000e+00,  0.0000e+00, -4.6566e-10],\n",
       "         [-9.9124e-26,  1.0845e-19,  9.8091e-45,  0.0000e+00,  0.0000e+00],\n",
       "         [ 0.0000e+00,  3.5733e-43,  0.0000e+00,  0.0000e+00,  0.0000e+00]]])"
      ]
     },
     "execution_count": 3,
     "metadata": {},
     "output_type": "execute_result"
    }
   ],
   "source": [
    "# Создайте случайный FloatTensor размера 3x4x5\n",
    "x=torch.FloatTensor(3,4,5)\n",
    "x"
   ]
  },
  {
   "cell_type": "code",
   "execution_count": 5,
   "metadata": {},
   "outputs": [
    {
     "data": {
      "text/plain": [
       "torch.Size([3, 4, 5])"
      ]
     },
     "execution_count": 5,
     "metadata": {},
     "output_type": "execute_result"
    }
   ],
   "source": [
    "# Выведите его форму (shape)\n",
    "x.shape"
   ]
  },
  {
   "cell_type": "code",
   "execution_count": 7,
   "metadata": {},
   "outputs": [
    {
     "data": {
      "text/plain": [
       "tensor([[ 7.1305e+31,  1.3593e-43,  0.0000e+00,  0.0000e+00,  0.0000e+00,\n",
       "          0.0000e+00,  1.9069e+15,  4.5818e-41,  1.5469e+19,  4.5818e-41],\n",
       "        [ 1.5469e+19,  4.5818e-41,  1.5469e+19,  4.5818e-41,  1.2534e+19,\n",
       "          4.5818e-41,  3.5733e-43,  0.0000e+00,  1.4013e-45,  0.0000e+00],\n",
       "        [ 1.5469e+19,  4.5818e-41,  1.5469e+19,  4.5818e-41,  1.4013e-45,\n",
       "          0.0000e+00,  3.5733e-43,  0.0000e+00,  0.0000e+00,  0.0000e+00],\n",
       "        [ 1.5469e+19,  4.5818e-41,  0.0000e+00,  0.0000e+00,  0.0000e+00,\n",
       "          0.0000e+00,  0.0000e+00,  0.0000e+00,  0.0000e+00,  0.0000e+00],\n",
       "        [ 0.0000e+00,  0.0000e+00,  0.0000e+00,  0.0000e+00,  0.0000e+00,\n",
       "          0.0000e+00,  3.5733e-43,  0.0000e+00,  0.0000e+00, -4.6566e-10],\n",
       "        [-9.9124e-26,  1.0845e-19,  9.8091e-45,  0.0000e+00,  0.0000e+00,\n",
       "          0.0000e+00,  3.5733e-43,  0.0000e+00,  0.0000e+00,  0.0000e+00]])"
      ]
     },
     "execution_count": 7,
     "metadata": {},
     "output_type": "execute_result"
    }
   ],
   "source": [
    "# Приведите его к форме 6 X 10\n",
    "x.view(6,10)"
   ]
  },
  {
   "cell_type": "code",
   "execution_count": 10,
   "metadata": {},
   "outputs": [
    {
     "data": {
      "text/plain": [
       "tensor([[[ 7.1305e+31,  5.4370e-43,  0.0000e+00,  0.0000e+00,  0.0000e+00],\n",
       "         [ 0.0000e+00,  7.6275e+15,  9.1637e-41,  3.0938e+19,  4.5818e-41],\n",
       "         [ 1.5469e+19,  1.8327e-40,  3.0938e+19,  9.1637e-41,  1.2534e+19],\n",
       "         [ 4.5818e-41,  1.4293e-42,  0.0000e+00,  2.8026e-45,  0.0000e+00]],\n",
       "\n",
       "        [[ 1.5469e+19,  1.8327e-40,  3.0938e+19,  9.1637e-41,  1.4013e-45],\n",
       "         [ 0.0000e+00,  1.4293e-42,  0.0000e+00,  0.0000e+00,  0.0000e+00],\n",
       "         [ 1.5469e+19,  1.8327e-40,  0.0000e+00,  0.0000e+00,  0.0000e+00],\n",
       "         [ 0.0000e+00,  0.0000e+00,  0.0000e+00,  0.0000e+00,  0.0000e+00]],\n",
       "\n",
       "        [[ 0.0000e+00,  0.0000e+00,  0.0000e+00,  0.0000e+00,  0.0000e+00],\n",
       "         [ 0.0000e+00,  1.4293e-42,  0.0000e+00,  0.0000e+00, -4.6566e-10],\n",
       "         [-9.9124e-26,  4.3379e-19,  1.9618e-44,  0.0000e+00,  0.0000e+00],\n",
       "         [ 0.0000e+00,  1.4293e-42,  0.0000e+00,  0.0000e+00,  0.0000e+00]]])"
      ]
     },
     "execution_count": 10,
     "metadata": {},
     "output_type": "execute_result"
    }
   ],
   "source": [
    "# Умножьте его на вектор [1, 4, 2, 2, 1] поэлементно\n",
    "x * torch.Tensor([1,4,2,2,1])"
   ]
  },
  {
   "cell_type": "code",
   "execution_count": 11,
   "metadata": {},
   "outputs": [
    {
     "data": {
      "text/plain": [
       "torch.Size([6, 6])"
      ]
     },
     "execution_count": 11,
     "metadata": {},
     "output_type": "execute_result"
    }
   ],
   "source": [
    "# Умножьте тензор матрично на себя, чтобы результат был размерности 6x6\n",
    "x6_10 = x.view(6,10)\n",
    "y = torch.matmul(x6_10, x6_10.t())\n",
    "y.size()"
   ]
  },
  {
   "cell_type": "code",
   "execution_count": 12,
   "metadata": {},
   "outputs": [
    {
     "data": {
      "text/plain": [
       "tensor([[        inf,         inf,         inf,         inf,  6.8139e-28,\n",
       "         -7.0681e+06],\n",
       "        [        inf,         inf,         inf,  2.3929e+38,  0.0000e+00,\n",
       "         -1.5333e-06],\n",
       "        [        inf,         inf,         inf,  2.3929e+38,  0.0000e+00,\n",
       "         -1.5333e-06],\n",
       "        [        inf,  2.3929e+38,  2.3929e+38,  2.3929e+38,  0.0000e+00,\n",
       "         -1.5333e-06],\n",
       "        [ 6.8139e-28,  0.0000e+00,  0.0000e+00,  0.0000e+00,  2.1684e-19,\n",
       "          0.0000e+00],\n",
       "        [-7.0681e+06, -1.5333e-06, -1.5333e-06, -1.5333e-06,  0.0000e+00,\n",
       "          1.1761e-38]])"
      ]
     },
     "execution_count": 12,
     "metadata": {},
     "output_type": "execute_result"
    }
   ],
   "source": [
    "y"
   ]
  },
  {
   "cell_type": "code",
   "execution_count": 19,
   "metadata": {},
   "outputs": [
    {
     "name": "stdout",
     "output_type": "stream",
     "text": [
      "y_x=tensor([3.])\n",
      "y_z=tensor([1.])\n",
      "y_t=tensor([-75.])\n"
     ]
    }
   ],
   "source": [
    "# Посчитайте производную функции y = x**3 + z - 75t в точке (1, 0.5, 2)\n",
    "from torch.autograd import Variable\n",
    "\n",
    "x = Variable(torch.FloatTensor([1.0]), requires_grad = True)\n",
    "z = Variable(torch.FloatTensor([0.5]), requires_grad = True)\n",
    "t = Variable(torch.FloatTensor([2.0]), requires_grad = True)\n",
    "y = x**3 + z - 75*t\n",
    "\n",
    "y.backward()\n",
    "\n",
    "print(f'y_x={x.grad}')\n",
    "print(f'y_z={z.grad}')\n",
    "print(f'y_t={t.grad}')"
   ]
  },
  {
   "cell_type": "code",
   "execution_count": 21,
   "metadata": {},
   "outputs": [
    {
     "data": {
      "text/plain": [
       "tensor([[1., 1., 1., 1., 1., 1.],\n",
       "        [1., 1., 1., 1., 1., 1.],\n",
       "        [1., 1., 1., 1., 1., 1.],\n",
       "        [1., 1., 1., 1., 1., 1.],\n",
       "        [1., 1., 1., 1., 1., 1.]])"
      ]
     },
     "execution_count": 21,
     "metadata": {},
     "output_type": "execute_result"
    }
   ],
   "source": [
    "# Создайте единичный тензор размера 5x6\n",
    "\n",
    "x = torch.ones(5,6)\n",
    "x"
   ]
  },
  {
   "cell_type": "code",
   "execution_count": 23,
   "metadata": {},
   "outputs": [
    {
     "data": {
      "text/plain": [
       "array([[1., 1., 1., 1., 1., 1.],\n",
       "       [1., 1., 1., 1., 1., 1.],\n",
       "       [1., 1., 1., 1., 1., 1.],\n",
       "       [1., 1., 1., 1., 1., 1.],\n",
       "       [1., 1., 1., 1., 1., 1.]], dtype=float32)"
      ]
     },
     "execution_count": 23,
     "metadata": {},
     "output_type": "execute_result"
    }
   ],
   "source": [
    "# Переведите его в формат numpy\n",
    "x.numpy()"
   ]
  },
  {
   "cell_type": "code",
   "execution_count": 67,
   "metadata": {},
   "outputs": [],
   "source": [
    "# Давайте теперь пооптимизируем: возьмите функцию y = x**w1 - 2 * x**2 + 5\n",
    "# Посчитайте\n",
    "\n",
    "from torch import nn \n",
    "from torch import optim\n",
    "\n",
    "w1 = Variable(torch.Tensor([0.1,0.1]), requires_grad = True)\n",
    "x = Variable(torch.Tensor([2,2]), requires_grad = False)\n",
    "y = Variable(torch.Tensor([2,2]), requires_grad = False)"
   ]
  },
  {
   "cell_type": "code",
   "execution_count": 68,
   "metadata": {},
   "outputs": [],
   "source": [
    "optimizer = torch.optim.SGD([w1], lr=0.01)\n",
    "criterion = torch.nn.MSELoss()"
   ]
  },
  {
   "cell_type": "code",
   "execution_count": 69,
   "metadata": {},
   "outputs": [],
   "source": [
    "func = x**w1 - 2 * x**2 + 5\n",
    "\n",
    "optimizer.zero_grad()\n",
    "pred = func\n",
    "loss = criterion(pred, y)\n",
    "\n",
    "loss.backward()     \n",
    "optimizer.step()    "
   ]
  },
  {
   "cell_type": "code",
   "execution_count": 71,
   "metadata": {},
   "outputs": [
    {
     "name": "stdout",
     "output_type": "stream",
     "text": [
      "loss:\t 15.430963516235352\n",
      "w1:\t tensor([0.1292, 0.1292])\n"
     ]
    }
   ],
   "source": [
    "print(f'loss:\\t {loss.item()}')\n",
    "print(f'w1:\\t {w1.data}')"
   ]
  },
  {
   "cell_type": "code",
   "execution_count": null,
   "metadata": {},
   "outputs": [],
   "source": []
  }
 ],
 "metadata": {
  "kernelspec": {
   "display_name": "Python 3",
   "language": "python",
   "name": "python3"
  },
  "language_info": {
   "codemirror_mode": {
    "name": "ipython",
    "version": 3
   },
   "file_extension": ".py",
   "mimetype": "text/x-python",
   "name": "python",
   "nbconvert_exporter": "python",
   "pygments_lexer": "ipython3",
   "version": "3.8.5"
  }
 },
 "nbformat": 4,
 "nbformat_minor": 2
}
